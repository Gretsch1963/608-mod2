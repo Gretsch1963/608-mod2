{
 "cells": [
  {
   "cell_type": "markdown",
   "id": "c35cfd0b-82e3-4150-bd72-d1e3c5af1bf6",
   "metadata": {},
   "source": [
    "if..else \n"
   ]
  },
  {
   "cell_type": "code",
   "execution_count": 1,
   "id": "05a1d594-1065-4769-9229-972537925d85",
   "metadata": {},
   "outputs": [],
   "source": [
    "grade = 85"
   ]
  },
  {
   "cell_type": "code",
   "execution_count": 2,
   "id": "3a01a3ef-741e-4ae0-9b02-a724b621df27",
   "metadata": {},
   "outputs": [
    {
     "name": "stdout",
     "output_type": "stream",
     "text": [
      "Passed\n"
     ]
    }
   ],
   "source": [
    "if grade >= 60:\n",
    "    print('Passed')\n",
    "else:\n",
    "    print('Failed') "
   ]
  },
  {
   "cell_type": "code",
   "execution_count": 3,
   "id": "806de51d-02cc-4603-8f7a-6a7aedb5fc14",
   "metadata": {},
   "outputs": [],
   "source": [
    "grade = 57 "
   ]
  },
  {
   "cell_type": "code",
   "execution_count": 4,
   "id": "ca3322dd-1529-4f8c-8993-2794fc8da593",
   "metadata": {},
   "outputs": [
    {
     "name": "stdout",
     "output_type": "stream",
     "text": [
      "Failed\n"
     ]
    }
   ],
   "source": [
    "if grade >= 60:\n",
    "    print('Passed')\n",
    "else:\n",
    "    print('Failed')"
   ]
  },
  {
   "cell_type": "code",
   "execution_count": 7,
   "id": "1abc68ed-0790-4a87-a95f-88027515b2aa",
   "metadata": {},
   "outputs": [],
   "source": [
    "grade = 99"
   ]
  },
  {
   "cell_type": "code",
   "execution_count": 8,
   "id": "d0e0eaf4-6fad-4369-93a6-75a5e8c2c3c2",
   "metadata": {},
   "outputs": [
    {
     "name": "stdout",
     "output_type": "stream",
     "text": [
      "Passed\n"
     ]
    }
   ],
   "source": [
    "if grade >= 60:\n",
    "    print('Passed')\n",
    "else:\n",
    "    print('Failed')"
   ]
  },
  {
   "cell_type": "code",
   "execution_count": 9,
   "id": "fb2574f1-d89f-43b4-bbad-04fbcbdfffb4",
   "metadata": {},
   "outputs": [],
   "source": [
    "product = 7 "
   ]
  },
  {
   "cell_type": "code",
   "execution_count": 11,
   "id": "6106952d-166b-4776-8428-ebadb0602fc4",
   "metadata": {},
   "outputs": [],
   "source": [
    "while product <= 1000: \n",
    "    product = product * 7 "
   ]
  },
  {
   "cell_type": "code",
   "execution_count": 12,
   "id": "63003f3b-976b-4779-9547-a292ce1d68bc",
   "metadata": {},
   "outputs": [],
   "source": [
    "product = 7"
   ]
  },
  {
   "cell_type": "code",
   "execution_count": 13,
   "id": "f7992b19-41f5-4be8-85ed-af26f5bc34a0",
   "metadata": {},
   "outputs": [],
   "source": [
    "while product <= 1000: \n",
    "    product = product * 7"
   ]
  },
  {
   "cell_type": "code",
   "execution_count": 14,
   "id": "6117a1a7-3691-4250-981b-23eb7138eb3c",
   "metadata": {},
   "outputs": [
    {
     "data": {
      "text/plain": [
       "2401"
      ]
     },
     "execution_count": 14,
     "metadata": {},
     "output_type": "execute_result"
    }
   ],
   "source": [
    "product"
   ]
  },
  {
   "cell_type": "code",
   "execution_count": 15,
   "id": "fbe32aca-1961-40aa-9ad3-c911847a05a2",
   "metadata": {},
   "outputs": [
    {
     "ename": "SyntaxError",
     "evalue": "invalid syntax (2828729777.py, line 1)",
     "output_type": "error",
     "traceback": [
      "\u001b[0;36m  Input \u001b[0;32mIn [15]\u001b[0;36m\u001b[0m\n\u001b[0;31m    for character in 'Mortgage'\u001b[0m\n\u001b[0m                               ^\u001b[0m\n\u001b[0;31mSyntaxError\u001b[0m\u001b[0;31m:\u001b[0m invalid syntax\n"
     ]
    }
   ],
   "source": [
    "for character in 'Mortgage'"
   ]
  },
  {
   "cell_type": "code",
   "execution_count": 16,
   "id": "0bfc7981-1284-4b19-891e-393443d94b83",
   "metadata": {},
   "outputs": [
    {
     "ename": "SyntaxError",
     "evalue": "invalid syntax (1279624795.py, line 1)",
     "output_type": "error",
     "traceback": [
      "\u001b[0;36m  Input \u001b[0;32mIn [16]\u001b[0;36m\u001b[0m\n\u001b[0;31m    for character in 'Mortgage'\u001b[0m\n\u001b[0m                                ^\u001b[0m\n\u001b[0;31mSyntaxError\u001b[0m\u001b[0;31m:\u001b[0m invalid syntax\n"
     ]
    }
   ],
   "source": [
    "for character in 'Mortgage' \n",
    "    print(character, end='  ')"
   ]
  },
  {
   "cell_type": "code",
   "execution_count": 17,
   "id": "0a71b122-1c75-476e-b122-9fc724a4a520",
   "metadata": {},
   "outputs": [
    {
     "ename": "SyntaxError",
     "evalue": "unexpected EOF while parsing (3089860683.py, line 2)",
     "output_type": "error",
     "traceback": [
      "\u001b[0;36m  Input \u001b[0;32mIn [17]\u001b[0;36m\u001b[0m\n\u001b[0;31m    print(character, end=\"  \"\u001b[0m\n\u001b[0m                             ^\u001b[0m\n\u001b[0;31mSyntaxError\u001b[0m\u001b[0;31m:\u001b[0m unexpected EOF while parsing\n"
     ]
    }
   ],
   "source": [
    "for character in 'Mortgage':\n",
    "    print(character, end=\"  \""
   ]
  },
  {
   "cell_type": "code",
   "execution_count": 18,
   "id": "33f710b0-4ce1-46cb-a2b4-3f0396abc7d5",
   "metadata": {},
   "outputs": [
    {
     "name": "stdout",
     "output_type": "stream",
     "text": [
      "M  o  r  t  g  a  g  e  "
     ]
    }
   ],
   "source": [
    "for character in 'Mortgage':\n",
    "    print(character, end=\"  \")"
   ]
  },
  {
   "cell_type": "code",
   "execution_count": null,
   "id": "14f1a681-a8ee-455c-8d74-7c7efdd445d4",
   "metadata": {},
   "outputs": [],
   "source": []
  },
  {
   "cell_type": "code",
   "execution_count": 19,
   "id": "0f341595-40ce-4638-b225-2beb01086d03",
   "metadata": {},
   "outputs": [],
   "source": [
    "total = 0"
   ]
  },
  {
   "cell_type": "code",
   "execution_count": 20,
   "id": "8bd23504-adb4-4d8a-ab04-40c615fc3ce1",
   "metadata": {},
   "outputs": [],
   "source": [
    "for number in[2, -3, 0, 17, 9]:\n",
    "    total = total + number "
   ]
  },
  {
   "cell_type": "code",
   "execution_count": 21,
   "id": "73c3924e-2942-4b46-a64c-ed9d3db55d5d",
   "metadata": {},
   "outputs": [
    {
     "data": {
      "text/plain": [
       "25"
      ]
     },
     "execution_count": 21,
     "metadata": {},
     "output_type": "execute_result"
    }
   ],
   "source": [
    "total"
   ]
  },
  {
   "cell_type": "code",
   "execution_count": 22,
   "id": "d864efba-02c4-4a5c-8468-5ba4acc8ddcf",
   "metadata": {},
   "outputs": [
    {
     "name": "stdout",
     "output_type": "stream",
     "text": [
      "0 1 2 3 4 5 6 7 8 9 "
     ]
    }
   ],
   "source": [
    "for counter in range(10):\n",
    "    print(counter, end=' ')"
   ]
  },
  {
   "cell_type": "code",
   "execution_count": 23,
   "id": "3ae7fc3f-f61e-469c-b4b4-5105c3b4ab59",
   "metadata": {},
   "outputs": [],
   "source": [
    "total = 0"
   ]
  },
  {
   "cell_type": "code",
   "execution_count": 24,
   "id": "1872eba5-6564-477e-8753-38c7030bec3d",
   "metadata": {},
   "outputs": [],
   "source": [
    "for number in range(1000010):\n",
    "    total = total + number "
   ]
  },
  {
   "cell_type": "code",
   "execution_count": 25,
   "id": "5be0813e-4d98-4e29-b4b4-39f6062d1c99",
   "metadata": {},
   "outputs": [
    {
     "data": {
      "text/plain": [
       "500009500045"
      ]
     },
     "execution_count": 25,
     "metadata": {},
     "output_type": "execute_result"
    }
   ],
   "source": [
    "total"
   ]
  },
  {
   "cell_type": "code",
   "execution_count": 27,
   "id": "319fa025-47ac-4438-97a7-e78f4663c822",
   "metadata": {},
   "outputs": [
    {
     "name": "stdout",
     "output_type": "stream",
     "text": [
      "0 1 2 3 4 5 6 7 8 9 10 11 12 13 14 15 16 17 18 19 20 21 22 23 24 25 26 27 28 29 30 31 32 33 34 35 36 37 38 39 40 41 42 43 44 45 46 47 48 49 50 51 52 53 54 55 56 57 58 59 60 61 62 63 64 65 66 67 68 69 70 71 72 73 74 75 76 77 78 79 80 81 82 83 84 85 86 87 88 89 90 91 92 93 94 95 96 97 98 99 100 101 102 103 104 105 106 107 108 109 110 111 112 113 114 115 116 117 118 119 120 121 122 123 124 125 126 127 128 129 130 131 132 133 134 135 136 137 138 139 140 141 142 143 144 145 146 147 148 149 150 151 152 153 154 155 156 157 158 159 160 161 162 163 164 165 166 167 168 169 170 171 172 173 174 175 176 177 178 179 180 181 182 183 184 185 186 187 188 189 190 191 192 193 194 195 196 197 198 199 200 201 202 203 204 205 206 207 208 209 210 211 212 213 214 215 216 217 218 219 220 221 222 223 224 225 226 227 228 229 230 231 232 233 234 235 236 237 238 239 240 241 242 243 244 245 246 247 248 249 250 251 252 253 254 255 256 257 258 259 260 261 262 263 264 265 266 267 268 269 270 271 272 273 274 275 276 277 278 279 280 281 282 283 284 285 286 287 288 289 290 291 292 293 294 295 296 297 298 299 300 301 302 303 304 305 306 307 308 309 310 311 312 313 314 315 316 317 318 319 320 321 322 323 324 325 326 327 328 329 330 331 332 333 334 335 336 337 338 339 340 341 342 343 344 345 346 347 348 349 350 351 352 353 354 355 356 357 358 359 360 361 362 363 364 365 366 367 368 369 370 371 372 373 374 375 376 377 378 379 380 381 382 383 384 385 386 387 388 389 390 391 392 393 394 395 396 397 398 399 400 401 402 403 404 405 406 407 408 409 410 411 412 413 414 415 416 417 418 419 420 421 422 423 424 425 426 427 428 429 430 431 432 433 434 435 436 437 438 439 440 441 442 443 444 445 446 447 448 449 450 451 452 453 454 455 456 457 458 459 460 461 462 463 464 465 466 467 468 469 470 471 472 473 474 475 476 477 478 479 480 481 482 483 484 485 486 487 488 489 490 491 492 493 494 495 496 497 498 499 500 501 502 503 504 505 506 507 508 509 510 511 512 513 514 515 516 517 518 519 520 521 522 523 524 525 526 527 528 529 530 531 532 533 534 535 536 537 538 539 540 541 542 543 544 545 546 547 548 549 550 551 552 553 554 555 556 557 558 559 560 561 562 563 564 565 566 567 568 569 570 571 572 573 574 575 576 577 578 579 580 581 582 583 584 585 586 587 588 589 590 591 592 593 594 595 596 597 598 599 600 601 602 603 604 605 606 607 608 609 610 611 612 613 614 615 616 617 618 619 620 621 622 623 624 625 626 627 628 629 630 631 632 633 634 635 636 637 638 639 640 641 642 643 644 645 646 647 648 649 650 651 652 653 654 655 656 657 658 659 660 661 662 663 664 665 666 667 668 669 670 671 672 673 674 675 676 677 678 679 680 681 682 683 684 685 686 687 688 689 690 691 692 693 694 695 696 697 698 699 700 701 702 703 704 705 706 707 708 709 710 711 712 713 714 715 716 717 718 719 720 721 722 723 724 725 726 727 728 729 730 731 732 733 734 735 736 737 738 739 740 741 742 743 744 745 746 747 748 749 750 751 752 753 754 755 756 757 758 759 760 761 762 763 764 765 766 767 768 769 770 771 772 773 774 775 776 777 778 779 780 781 782 783 784 785 786 787 788 789 790 791 792 793 794 795 796 797 798 799 800 801 802 803 804 805 806 807 808 809 810 811 812 813 814 815 816 817 818 819 820 821 822 823 824 825 826 827 828 829 830 831 832 833 834 835 836 837 838 839 840 841 842 843 844 845 846 847 848 849 850 851 852 853 854 855 856 857 858 859 860 861 862 863 864 865 866 867 868 869 870 871 872 873 874 875 876 877 878 879 880 881 882 883 884 885 886 887 888 889 890 891 892 893 894 895 896 897 898 899 900 901 902 903 904 905 906 907 908 909 910 911 912 913 914 915 916 917 918 919 920 921 922 923 924 925 926 927 928 929 930 931 932 933 934 935 936 937 938 939 940 941 942 943 944 945 946 947 948 949 950 951 952 953 954 955 956 957 958 959 960 961 962 963 964 965 966 967 968 969 970 971 972 973 974 975 976 977 978 979 980 981 982 983 984 985 986 987 988 989 990 991 992 993 994 995 996 997 998 999 1000 1001 1002 1003 1004 1005 1006 1007 1008 1009 1010 1011 1012 1013 1014 1015 1016 1017 1018 1019 1020 1021 1022 "
     ]
    }
   ],
   "source": [
    "for counter in range(1023):\n",
    "    print(counter,end=' ')"
   ]
  },
  {
   "cell_type": "code",
   "execution_count": 28,
   "id": "ca701c9f-d275-4684-8e0c-c1b52702ed04",
   "metadata": {},
   "outputs": [],
   "source": [
    "x = 12 "
   ]
  },
  {
   "cell_type": "code",
   "execution_count": 29,
   "id": "6a076636-be07-4421-bd85-40694b64452f",
   "metadata": {},
   "outputs": [],
   "source": [
    "x **= 2"
   ]
  },
  {
   "cell_type": "code",
   "execution_count": 30,
   "id": "829d8302-2645-41f7-8d4f-a54ad6583437",
   "metadata": {},
   "outputs": [
    {
     "data": {
      "text/plain": [
       "144"
      ]
     },
     "execution_count": 30,
     "metadata": {},
     "output_type": "execute_result"
    }
   ],
   "source": [
    "x"
   ]
  },
  {
   "cell_type": "code",
   "execution_count": 31,
   "id": "3ba65edb-85ae-43ab-857f-a9e65ab1447e",
   "metadata": {},
   "outputs": [],
   "source": [
    "total = 0"
   ]
  },
  {
   "cell_type": "code",
   "execution_count": 32,
   "id": "8a83858d-60a6-470b-9d40-22b1bb119398",
   "metadata": {},
   "outputs": [],
   "source": [
    "grade_counter = 0"
   ]
  },
  {
   "cell_type": "code",
   "execution_count": 33,
   "id": "d2ad65ba-d422-433d-a9ea-456d9442f5fc",
   "metadata": {},
   "outputs": [],
   "source": [
    "grades = [98, 76, 71, 87, 83, 90, 57, 79, 82, 94]"
   ]
  },
  {
   "cell_type": "code",
   "execution_count": 34,
   "id": "a15c9e4a-b021-4922-8b76-9cdbd806e478",
   "metadata": {},
   "outputs": [],
   "source": [
    "for grade in grades:\n",
    "    total += grade\n",
    "    grade_counter += 1"
   ]
  },
  {
   "cell_type": "code",
   "execution_count": 35,
   "id": "5f4fb2ea-928e-40f9-aa92-aa03ff169c6b",
   "metadata": {},
   "outputs": [
    {
     "name": "stdout",
     "output_type": "stream",
     "text": [
      "Class averageis 81.7\n"
     ]
    }
   ],
   "source": [
    "average = total / grade_counter\n",
    "print(f'Class averageis {average}')"
   ]
  },
  {
   "cell_type": "code",
   "execution_count": 36,
   "id": "c5b896ac-05c8-4d8b-a88e-a173e8c37242",
   "metadata": {},
   "outputs": [],
   "source": [
    "number1 = 10"
   ]
  },
  {
   "cell_type": "code",
   "execution_count": 39,
   "id": "93422926-741b-413d-8ab8-1fd91cac77e4",
   "metadata": {},
   "outputs": [
    {
     "name": "stdout",
     "output_type": "stream",
     "text": [
      "7 times 5 is 35\n"
     ]
    }
   ],
   "source": [
    "print(f'{number1} times {number2} is {number1 * number2}')"
   ]
  },
  {
   "cell_type": "code",
   "execution_count": 40,
   "id": "683fc311-148d-4a0c-8c83-57de5c4e5e21",
   "metadata": {},
   "outputs": [],
   "source": [
    "number2 = 20"
   ]
  },
  {
   "cell_type": "code",
   "execution_count": 43,
   "id": "eb99f112-425f-4c95-82bd-a58f67a0abfc",
   "metadata": {},
   "outputs": [
    {
     "name": "stdout",
     "output_type": "stream",
     "text": [
      "7 times 20 is 140\n"
     ]
    }
   ],
   "source": [
    "print(f'{number1} times {number2} is {number1 * number2}')"
   ]
  },
  {
   "cell_type": "code",
   "execution_count": null,
   "id": "a4d8d774-2c2f-461d-be0a-cb69c150d344",
   "metadata": {},
   "outputs": [],
   "source": []
  },
  {
   "cell_type": "code",
   "execution_count": 44,
   "id": "4f63daae-8b01-48fa-9848-74515db40fb1",
   "metadata": {},
   "outputs": [
    {
     "name": "stdout",
     "output_type": "stream",
     "text": [
      "5 6 7 8 9 "
     ]
    }
   ],
   "source": [
    "for number in range(5, 10):\n",
    "    print(number, end=' ') "
   ]
  },
  {
   "cell_type": "code",
   "execution_count": 45,
   "id": "ea1a6b33-e79d-4db5-9576-6a506bf83bd3",
   "metadata": {},
   "outputs": [
    {
     "name": "stdout",
     "output_type": "stream",
     "text": [
      "0 5 10 15 20 25 30 35 40 45 50 55 60 65 70 75 80 85 90 95 "
     ]
    }
   ],
   "source": [
    "for number in range(0, 100, 5):\n",
    "    print(number, end=' ') "
   ]
  },
  {
   "cell_type": "code",
   "execution_count": 46,
   "id": "74819e4b-ca5f-4a9c-b13f-1cc1f0182190",
   "metadata": {},
   "outputs": [
    {
     "name": "stdout",
     "output_type": "stream",
     "text": [
      "99 88 77 66 55 44 33 22 11 0 "
     ]
    }
   ],
   "source": [
    "for number in range(99, -1, -11): \n",
    "    print(number, end=' ') "
   ]
  },
  {
   "cell_type": "code",
   "execution_count": 47,
   "id": "254a1668-ca5b-427a-89f1-bfdaa9f89b59",
   "metadata": {},
   "outputs": [
    {
     "name": "stdout",
     "output_type": "stream",
     "text": [
      "2 4 6 8 10 12 14 16 18 20 22 24 26 28 30 32 34 36 38 40 42 44 46 48 50 52 54 56 58 60 62 64 66 68 70 72 74 76 78 80 82 84 86 88 90 92 94 96 98 "
     ]
    }
   ],
   "source": [
    "for number in range(2, 100, 2):\n",
    "    print(number, end=' ')"
   ]
  },
  {
   "cell_type": "code",
   "execution_count": 48,
   "id": "0fe0edaa-bee1-4051-8961-5850301b73e7",
   "metadata": {},
   "outputs": [],
   "source": [
    "total = 0 "
   ]
  },
  {
   "cell_type": "code",
   "execution_count": 51,
   "id": "bf20cc70-9812-4960-8cc2-648203d57959",
   "metadata": {},
   "outputs": [],
   "source": [
    "for number in range(2, 101, 2):\n",
    "    total += number "
   ]
  },
  {
   "cell_type": "code",
   "execution_count": 52,
   "id": "e899716b-1ec9-4521-890f-3c05b04d401d",
   "metadata": {},
   "outputs": [
    {
     "data": {
      "text/plain": [
       "4990"
      ]
     },
     "execution_count": 52,
     "metadata": {},
     "output_type": "execute_result"
    }
   ],
   "source": [
    "total"
   ]
  },
  {
   "cell_type": "code",
   "execution_count": 53,
   "id": "21d6759c-e05f-4d0e-a368-e96b3db95422",
   "metadata": {},
   "outputs": [],
   "source": [
    "from decimal import Decimal "
   ]
  },
  {
   "cell_type": "code",
   "execution_count": 54,
   "id": "fe025877-313c-4fb4-81cf-9c131c2d6304",
   "metadata": {},
   "outputs": [
    {
     "name": "stdout",
     "output_type": "stream",
     "text": [
      "39.79\n"
     ]
    }
   ],
   "source": [
    "print (f\"{Decimal('37.45') * Decimal('1.0625'):.2f}\") "
   ]
  },
  {
   "cell_type": "code",
   "execution_count": 56,
   "id": "5923aba9-ec10-4018-b1f5-2a6ce016885c",
   "metadata": {},
   "outputs": [
    {
     "name": "stdout",
     "output_type": "stream",
     "text": [
      "0 1 2 3 4 5 6 7 8 9 "
     ]
    }
   ],
   "source": [
    "for number in range (100):\n",
    "    if number == 10:\n",
    "        break\n",
    "    print(number, end=' ')   "
   ]
  },
  {
   "cell_type": "code",
   "execution_count": 57,
   "id": "698bf073-c485-4156-a65c-36a987f906cd",
   "metadata": {},
   "outputs": [
    {
     "name": "stdout",
     "output_type": "stream",
     "text": [
      "0 1 2 3 4 5 6 7 8 9 10 11 12 13 14 15 16 17 18 19 20 21 22 23 24 25 26 27 28 29 30 31 32 33 34 35 36 37 38 39 40 41 42 43 44 45 46 47 48 49 50 51 52 53 54 55 56 57 58 59 60 61 62 63 64 65 66 67 68 69 70 71 72 73 74 75 76 77 78 79 80 81 82 83 84 85 86 87 88 89 90 91 92 93 94 95 96 97 98 99 100 101 102 103 104 105 106 107 108 109 110 111 112 113 114 115 116 117 118 119 120 121 122 123 124 125 126 127 128 129 130 131 132 133 134 135 136 137 138 139 140 141 142 143 144 145 146 147 148 149 150 151 152 153 154 155 156 157 158 159 160 161 162 163 164 165 166 167 168 169 170 171 172 173 174 175 176 177 178 179 180 181 182 183 184 185 186 187 188 189 190 191 192 193 194 195 196 197 198 199 200 201 202 203 204 205 206 207 208 209 210 211 212 213 214 215 216 217 218 219 220 221 222 223 224 225 226 227 228 229 230 231 232 233 234 235 236 237 238 239 240 241 242 243 244 245 246 247 248 249 250 251 252 253 254 255 256 257 258 259 260 261 262 263 264 265 266 267 268 269 270 271 272 273 274 275 276 277 278 279 280 281 282 283 284 285 286 287 288 289 290 291 292 293 294 295 296 297 298 299 300 301 302 303 304 305 306 307 308 309 310 311 312 313 314 315 316 317 318 319 320 321 322 323 324 325 326 327 328 329 330 331 332 333 334 335 336 337 338 339 340 341 342 343 344 345 346 347 348 349 350 351 352 353 354 355 356 357 358 359 360 361 362 363 364 365 366 367 368 369 370 371 372 373 374 375 376 377 378 379 380 381 382 383 384 385 386 387 388 389 390 391 392 393 394 395 396 397 398 399 400 401 402 403 404 405 406 407 408 409 410 411 412 413 414 415 416 417 418 419 420 421 422 423 424 425 426 427 428 429 430 431 432 433 434 435 436 437 438 439 440 441 442 443 444 445 446 447 448 449 450 451 452 453 454 455 456 457 458 459 460 461 462 463 464 465 466 467 468 469 470 471 472 473 474 475 476 477 478 479 480 481 482 483 484 485 486 487 488 489 490 491 492 493 494 495 496 497 498 499 500 501 502 503 504 505 506 507 508 509 510 511 512 513 514 515 516 517 518 519 520 521 522 523 524 525 526 527 528 529 530 531 532 533 534 535 536 537 538 539 540 541 542 543 544 545 546 547 548 "
     ]
    }
   ],
   "source": [
    "for number in range (1000):\n",
    "    if number == 549:\n",
    "        break \n",
    "    print(number, end=' ')"
   ]
  },
  {
   "cell_type": "code",
   "execution_count": 58,
   "id": "b774464a-ffa7-4d68-8a33-aee14865f1ac",
   "metadata": {},
   "outputs": [
    {
     "name": "stdout",
     "output_type": "stream",
     "text": [
      "0 1 2 3 4 6 7 8 9 "
     ]
    }
   ],
   "source": [
    "for number in range(10):\n",
    "    if number == 5:\n",
    "        continue\n",
    "    print(number, end=' ')"
   ]
  },
  {
   "cell_type": "code",
   "execution_count": 59,
   "id": "721fcafb-072d-4408-8c08-8c27d5875d5c",
   "metadata": {},
   "outputs": [],
   "source": [
    "semester_average = 83"
   ]
  },
  {
   "cell_type": "code",
   "execution_count": 60,
   "id": "f0ec690c-64d8-4a8a-9937-6a14a0d64d6c",
   "metadata": {},
   "outputs": [],
   "source": [
    "final_exam = 95"
   ]
  },
  {
   "cell_type": "code",
   "execution_count": 61,
   "id": "6f5a19ea-f686-4289-b1de-ceb9c28ea70d",
   "metadata": {},
   "outputs": [
    {
     "name": "stdout",
     "output_type": "stream",
     "text": [
      "Student gets an A\n"
     ]
    }
   ],
   "source": [
    "if semester_average >= 90 or final_exam >= 90:\n",
    "    print('Student gets an A') "
   ]
  },
  {
   "cell_type": "code",
   "execution_count": 62,
   "id": "bf12785e-f265-414f-b4c6-28d6cb9d982e",
   "metadata": {},
   "outputs": [],
   "source": [
    "i = 1"
   ]
  },
  {
   "cell_type": "code",
   "execution_count": 63,
   "id": "ab0ce14a-be20-4460-bbf8-0c574c596f9f",
   "metadata": {},
   "outputs": [],
   "source": [
    "j = 2"
   ]
  },
  {
   "cell_type": "code",
   "execution_count": 64,
   "id": "b6544fcb-ec6d-4a46-a71c-c79e7d766b70",
   "metadata": {},
   "outputs": [],
   "source": [
    "k = 3"
   ]
  },
  {
   "cell_type": "code",
   "execution_count": 65,
   "id": "b37e8b38-61d2-4b14-b9db-ccf56c5b4cfb",
   "metadata": {},
   "outputs": [],
   "source": [
    "m = 2"
   ]
  },
  {
   "cell_type": "code",
   "execution_count": 66,
   "id": "476efe1a-b383-4378-92c4-4173b490d12a",
   "metadata": {},
   "outputs": [
    {
     "data": {
      "text/plain": [
       "True"
      ]
     },
     "execution_count": 66,
     "metadata": {},
     "output_type": "execute_result"
    }
   ],
   "source": [
    "(i >= 1) and (j < 4) "
   ]
  },
  {
   "cell_type": "code",
   "execution_count": 67,
   "id": "2585a82e-0ec2-48a8-ac1f-53df616e75fe",
   "metadata": {},
   "outputs": [
    {
     "data": {
      "text/plain": [
       "False"
      ]
     },
     "execution_count": 67,
     "metadata": {},
     "output_type": "execute_result"
    }
   ],
   "source": [
    "(m <= 99) and (k < m)"
   ]
  },
  {
   "cell_type": "code",
   "execution_count": 68,
   "id": "974239b8-1a82-46f9-be1f-05475088adbb",
   "metadata": {},
   "outputs": [
    {
     "data": {
      "text/plain": [
       "True"
      ]
     },
     "execution_count": 68,
     "metadata": {},
     "output_type": "execute_result"
    }
   ],
   "source": [
    "(j >= i) or (k == m)"
   ]
  },
  {
   "cell_type": "code",
   "execution_count": 69,
   "id": "3d170306-9ca3-4c97-91f8-02e3b05260b3",
   "metadata": {},
   "outputs": [
    {
     "data": {
      "text/plain": [
       "False"
      ]
     },
     "execution_count": 69,
     "metadata": {},
     "output_type": "execute_result"
    }
   ],
   "source": [
    "(k + m < j) or (3 - j >= k) "
   ]
  },
  {
   "cell_type": "code",
   "execution_count": 70,
   "id": "9d717efa-af92-46cd-99ff-fad1ac9959e7",
   "metadata": {},
   "outputs": [
    {
     "data": {
      "text/plain": [
       "False"
      ]
     },
     "execution_count": 70,
     "metadata": {},
     "output_type": "execute_result"
    }
   ],
   "source": [
    "not (k > m) "
   ]
  },
  {
   "cell_type": "code",
   "execution_count": 71,
   "id": "2796a91a-65b6-4362-b73b-ef840a301db9",
   "metadata": {},
   "outputs": [],
   "source": [
    "import statistics "
   ]
  },
  {
   "cell_type": "code",
   "execution_count": 72,
   "id": "ada7dc62-b2ea-40c8-b259-004be740a155",
   "metadata": {},
   "outputs": [],
   "source": [
    "values = [47, 95, 88, 73, 88, 84]"
   ]
  },
  {
   "cell_type": "code",
   "execution_count": 73,
   "id": "d5b912e0-2469-47e3-94c8-7591dfda51d7",
   "metadata": {},
   "outputs": [
    {
     "data": {
      "text/plain": [
       "79.16666666666667"
      ]
     },
     "execution_count": 73,
     "metadata": {},
     "output_type": "execute_result"
    }
   ],
   "source": [
    "statistics.mean(values)"
   ]
  },
  {
   "cell_type": "code",
   "execution_count": 74,
   "id": "724a5383-fdbf-4b64-8adc-19d785c5833f",
   "metadata": {},
   "outputs": [
    {
     "data": {
      "text/plain": [
       "86.0"
      ]
     },
     "execution_count": 74,
     "metadata": {},
     "output_type": "execute_result"
    }
   ],
   "source": [
    "statistics.median(values)"
   ]
  },
  {
   "cell_type": "code",
   "execution_count": 75,
   "id": "8368f43d-ff65-482c-b6ba-1397c7df55eb",
   "metadata": {},
   "outputs": [
    {
     "data": {
      "text/plain": [
       "88"
      ]
     },
     "execution_count": 75,
     "metadata": {},
     "output_type": "execute_result"
    }
   ],
   "source": [
    "statistics.mode(values)"
   ]
  },
  {
   "cell_type": "code",
   "execution_count": 76,
   "id": "74093e9b-d789-4943-baba-3f1161974921",
   "metadata": {},
   "outputs": [],
   "source": [
    "grades = [47, 95, 88, 73, 88, 84] "
   ]
  },
  {
   "cell_type": "code",
   "execution_count": 77,
   "id": "f87328c0-9769-4ca8-8f46-613689fb3596",
   "metadata": {},
   "outputs": [
    {
     "data": {
      "text/plain": [
       "79.16666666666667"
      ]
     },
     "execution_count": 77,
     "metadata": {},
     "output_type": "execute_result"
    }
   ],
   "source": [
    "sum(grades) / len(grades) "
   ]
  },
  {
   "cell_type": "code",
   "execution_count": 78,
   "id": "8b1e07cb-5449-4d26-8a44-0befb7d3c2ab",
   "metadata": {},
   "outputs": [],
   "source": [
    "#John Hickman Custom Calcs Work "
   ]
  },
  {
   "cell_type": "code",
   "execution_count": 79,
   "id": "5d1167f3-edd2-45b8-9344-a9852038903d",
   "metadata": {},
   "outputs": [],
   "source": [
    "values = [50, 100, 120, 150, 180, 200]"
   ]
  },
  {
   "cell_type": "code",
   "execution_count": 80,
   "id": "0ae549b7-1a8f-4868-8f44-e1d366df3641",
   "metadata": {},
   "outputs": [
    {
     "data": {
      "text/plain": [
       "800"
      ]
     },
     "execution_count": 80,
     "metadata": {},
     "output_type": "execute_result"
    }
   ],
   "source": [
    "sum(values) "
   ]
  },
  {
   "cell_type": "code",
   "execution_count": 81,
   "id": "38b03b42-9bfa-472c-a516-3bb4807cb2e0",
   "metadata": {},
   "outputs": [
    {
     "data": {
      "text/plain": [
       "6"
      ]
     },
     "execution_count": 81,
     "metadata": {},
     "output_type": "execute_result"
    }
   ],
   "source": [
    "len(values)"
   ]
  },
  {
   "cell_type": "code",
   "execution_count": 82,
   "id": "f3a2eb0f-211c-4d8a-a73e-1aecec2af486",
   "metadata": {},
   "outputs": [
    {
     "data": {
      "text/plain": [
       "800"
      ]
     },
     "execution_count": 82,
     "metadata": {},
     "output_type": "execute_result"
    }
   ],
   "source": [
    "sum(values)"
   ]
  },
  {
   "cell_type": "code",
   "execution_count": 83,
   "id": "f31b5b1e-7ca2-4e6b-9c0e-23b12db8e3cb",
   "metadata": {},
   "outputs": [],
   "source": [
    "import statistics"
   ]
  },
  {
   "cell_type": "code",
   "execution_count": 84,
   "id": "e5b63049-48b4-471e-8e83-d208449b0fd6",
   "metadata": {},
   "outputs": [],
   "source": [
    "values =[47, 95, 88, 73, 88, 84]"
   ]
  },
  {
   "cell_type": "code",
   "execution_count": 90,
   "id": "b780adcd-8a68-4fd4-9618-4de4849575f6",
   "metadata": {},
   "outputs": [
    {
     "data": {
      "text/plain": [
       "135.0"
      ]
     },
     "execution_count": 90,
     "metadata": {},
     "output_type": "execute_result"
    }
   ],
   "source": [
    "statistics.median(values)"
   ]
  },
  {
   "cell_type": "code",
   "execution_count": 91,
   "id": "c7af3fb9-bbb1-4351-8e33-8ca9ce60f2a0",
   "metadata": {},
   "outputs": [
    {
     "data": {
      "text/plain": [
       "50"
      ]
     },
     "execution_count": 91,
     "metadata": {},
     "output_type": "execute_result"
    }
   ],
   "source": [
    "statistics.mode(values)"
   ]
  },
  {
   "cell_type": "code",
   "execution_count": 92,
   "id": "2ad1b8d9-23c2-46a8-8c24-0577c6f73bed",
   "metadata": {},
   "outputs": [
    {
     "data": {
      "text/plain": [
       "133.33333333333334"
      ]
     },
     "execution_count": 92,
     "metadata": {},
     "output_type": "execute_result"
    }
   ],
   "source": [
    "statistics.mean(values)"
   ]
  },
  {
   "cell_type": "code",
   "execution_count": 95,
   "id": "df944bea-1287-4bda-b847-7a7f7fef6871",
   "metadata": {},
   "outputs": [
    {
     "data": {
      "text/plain": [
       "50"
      ]
     },
     "execution_count": 95,
     "metadata": {},
     "output_type": "execute_result"
    }
   ],
   "source": [
    "statistics.mode(values)"
   ]
  },
  {
   "cell_type": "code",
   "execution_count": null,
   "id": "43bbb19b-4489-4185-93af-bf5577c3db50",
   "metadata": {},
   "outputs": [],
   "source": [
    "#custom central tendancy work John Hickman "
   ]
  },
  {
   "cell_type": "code",
   "execution_count": 96,
   "id": "da435f56-3539-4cb0-bda1-92e7833c6065",
   "metadata": {},
   "outputs": [],
   "source": [
    "values = [80, 90, 45, 95, 85] "
   ]
  },
  {
   "cell_type": "code",
   "execution_count": 99,
   "id": "26d12fe1-60d5-474d-9aa7-2ec3d031cc46",
   "metadata": {},
   "outputs": [
    {
     "data": {
      "text/plain": [
       "5"
      ]
     },
     "execution_count": 99,
     "metadata": {},
     "output_type": "execute_result"
    }
   ],
   "source": [
    "len(values)"
   ]
  },
  {
   "cell_type": "code",
   "execution_count": 100,
   "id": "e90d6790-f3bf-408c-8efc-1edce4662349",
   "metadata": {},
   "outputs": [
    {
     "data": {
      "text/plain": [
       "395"
      ]
     },
     "execution_count": 100,
     "metadata": {},
     "output_type": "execute_result"
    }
   ],
   "source": [
    "sum(values)"
   ]
  },
  {
   "cell_type": "code",
   "execution_count": 101,
   "id": "f0e9e4a0-6921-4274-b7ce-01b1ae3e86cc",
   "metadata": {},
   "outputs": [
    {
     "data": {
      "text/plain": [
       "79.0"
      ]
     },
     "execution_count": 101,
     "metadata": {},
     "output_type": "execute_result"
    }
   ],
   "source": [
    "sum(values) / len(values)"
   ]
  },
  {
   "cell_type": "code",
   "execution_count": 102,
   "id": "93a17dae-f0f0-43c1-965b-a4b628ce3287",
   "metadata": {},
   "outputs": [],
   "source": [
    "import statistics"
   ]
  },
  {
   "cell_type": "code",
   "execution_count": 103,
   "id": "152151d8-4c98-42d5-ab47-e7a65535f0f3",
   "metadata": {},
   "outputs": [
    {
     "data": {
      "text/plain": [
       "79"
      ]
     },
     "execution_count": 103,
     "metadata": {},
     "output_type": "execute_result"
    }
   ],
   "source": [
    "statistics.mean(values) "
   ]
  },
  {
   "cell_type": "code",
   "execution_count": 104,
   "id": "1b63ca2e-5d9c-4558-8261-0a30cf505b65",
   "metadata": {},
   "outputs": [
    {
     "data": {
      "text/plain": [
       "85"
      ]
     },
     "execution_count": 104,
     "metadata": {},
     "output_type": "execute_result"
    }
   ],
   "source": [
    "statistics.median(values)"
   ]
  },
  {
   "cell_type": "code",
   "execution_count": 105,
   "id": "91528cc3-a248-4920-af92-d7f204f3c025",
   "metadata": {},
   "outputs": [
    {
     "data": {
      "text/plain": [
       "80"
      ]
     },
     "execution_count": 105,
     "metadata": {},
     "output_type": "execute_result"
    }
   ],
   "source": [
    "statistics.mode(values) "
   ]
  },
  {
   "cell_type": "code",
   "execution_count": null,
   "id": "d4bd2a62-e6ea-4f4a-99d9-ffe4ad06f517",
   "metadata": {},
   "outputs": [],
   "source": []
  }
 ],
 "metadata": {
  "kernelspec": {
   "display_name": "Python 3 (ipykernel)",
   "language": "python",
   "name": "python3"
  },
  "language_info": {
   "codemirror_mode": {
    "name": "ipython",
    "version": 3
   },
   "file_extension": ".py",
   "mimetype": "text/x-python",
   "name": "python",
   "nbconvert_exporter": "python",
   "pygments_lexer": "ipython3",
   "version": "3.9.12"
  }
 },
 "nbformat": 4,
 "nbformat_minor": 5
}
